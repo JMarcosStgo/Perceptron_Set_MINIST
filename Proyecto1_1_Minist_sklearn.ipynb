{
  "nbformat": 4,
  "nbformat_minor": 0,
  "metadata": {
    "colab": {
      "provenance": []
    },
    "kernelspec": {
      "name": "python3",
      "display_name": "Python 3"
    },
    "language_info": {
      "name": "python"
    }
  },
  "cells": [
    {
      "cell_type": "code",
      "execution_count": 1,
      "metadata": {
        "colab": {
          "base_uri": "https://localhost:8080/"
        },
        "id": "Xs49Lefwya_N",
        "outputId": "7d8d8c65-0756-4389-dbd2-e175e2e4f9ed"
      },
      "outputs": [
        {
          "output_type": "stream",
          "name": "stdout",
          "text": [
            "Requirement already satisfied: numpy in /usr/local/lib/python3.10/dist-packages (1.23.5)\n",
            "Requirement already satisfied: matplotlib in /usr/local/lib/python3.10/dist-packages (3.7.1)\n",
            "Requirement already satisfied: contourpy>=1.0.1 in /usr/local/lib/python3.10/dist-packages (from matplotlib) (1.1.1)\n",
            "Requirement already satisfied: cycler>=0.10 in /usr/local/lib/python3.10/dist-packages (from matplotlib) (0.12.1)\n",
            "Requirement already satisfied: fonttools>=4.22.0 in /usr/local/lib/python3.10/dist-packages (from matplotlib) (4.43.1)\n",
            "Requirement already satisfied: kiwisolver>=1.0.1 in /usr/local/lib/python3.10/dist-packages (from matplotlib) (1.4.5)\n",
            "Requirement already satisfied: numpy>=1.20 in /usr/local/lib/python3.10/dist-packages (from matplotlib) (1.23.5)\n",
            "Requirement already satisfied: packaging>=20.0 in /usr/local/lib/python3.10/dist-packages (from matplotlib) (23.2)\n",
            "Requirement already satisfied: pillow>=6.2.0 in /usr/local/lib/python3.10/dist-packages (from matplotlib) (9.4.0)\n",
            "Requirement already satisfied: pyparsing>=2.3.1 in /usr/local/lib/python3.10/dist-packages (from matplotlib) (3.1.1)\n",
            "Requirement already satisfied: python-dateutil>=2.7 in /usr/local/lib/python3.10/dist-packages (from matplotlib) (2.8.2)\n",
            "Requirement already satisfied: six>=1.5 in /usr/local/lib/python3.10/dist-packages (from python-dateutil>=2.7->matplotlib) (1.16.0)\n",
            "Requirement already satisfied: scikit-learn in /usr/local/lib/python3.10/dist-packages (1.2.2)\n",
            "Requirement already satisfied: numpy>=1.17.3 in /usr/local/lib/python3.10/dist-packages (from scikit-learn) (1.23.5)\n",
            "Requirement already satisfied: scipy>=1.3.2 in /usr/local/lib/python3.10/dist-packages (from scikit-learn) (1.11.3)\n",
            "Requirement already satisfied: joblib>=1.1.1 in /usr/local/lib/python3.10/dist-packages (from scikit-learn) (1.3.2)\n",
            "Requirement already satisfied: threadpoolctl>=2.0.0 in /usr/local/lib/python3.10/dist-packages (from scikit-learn) (3.2.0)\n"
          ]
        }
      ],
      "source": [
        "!pip install numpy\n",
        "!pip install matplotlib\n",
        "!pip install scikit-learn"
      ]
    },
    {
      "cell_type": "code",
      "source": [
        "# Importacion de las librerias\n",
        "import numpy as np\n",
        "import matplotlib.pyplot as plt\n",
        "import pandas as pd\n",
        "from sklearn.datasets import fetch_openml\n",
        "mnist = fetch_openml('mnist_784',parser='auto')\n",
        "X, Y = mnist[\"data\"], mnist[\"target\"]"
      ],
      "metadata": {
        "id": "UvriOGQbyise"
      },
      "execution_count": 2,
      "outputs": []
    },
    {
      "cell_type": "code",
      "source": [
        "from sklearn.model_selection import train_test_split\n",
        "from sklearn.preprocessing import StandardScaler\n",
        "from sklearn.linear_model import Perceptron"
      ],
      "metadata": {
        "id": "2OY_69O_ytg5"
      },
      "execution_count": 7,
      "outputs": []
    },
    {
      "cell_type": "code",
      "source": [
        "# Experimento 1\n",
        "\n",
        "# Datos del conjunto, se obtienen 100 imagenes de la clase 8\n",
        "X_8 = X[Y == '8']\n",
        "# se asignan los datos de la clase 9\n",
        "X_9 = X[Y == '9']\n",
        "X_data = np.concatenate([X_8[:100], X_9[:100]], axis=0)\n",
        "# se crean las etiquetas\n",
        "Y_ = np.ones((200,))\n",
        "Y_[100:,] = 0\n",
        "# Separa los datos de prueba de entrenamiento\n",
        "X_train, X_test, y_train, y_test = train_test_split(X_data, Y_, test_size = 0.3, random_state = 1,stratify=Y_)\n",
        "\n",
        "sc = StandardScaler()\n",
        "sc.fit(X_train)\n",
        "X_train_std = sc.transform(X_train)\n",
        "X_test_std = sc.transform(X_test)\n",
        "# Entrenamiento\n",
        "ppn = Perceptron(eta0 = 0.1, random_state = 1)\n",
        "ppn.fit(X_train_std, y_train)\n",
        "\n",
        "y_pred = ppn.predict(X_test_std)\n",
        "print('Ejemplos clasificados incorrectamente: %d' % (y_test != y_pred).sum())\n",
        "\n",
        "from sklearn.metrics import accuracy_score\n",
        "print('Accuracy: %.3f' % accuracy_score(y_test, y_pred))"
      ],
      "metadata": {
        "colab": {
          "base_uri": "https://localhost:8080/"
        },
        "id": "oZ58Ndnly4UH",
        "outputId": "3bbd7b6a-4aad-450c-eaa0-0f8e3aee7990"
      },
      "execution_count": 42,
      "outputs": [
        {
          "output_type": "stream",
          "name": "stdout",
          "text": [
            "Ejemplos clasificados incorrectamente: 3\n",
            "Accuracy: 0.950\n"
          ]
        }
      ]
    },
    {
      "cell_type": "code",
      "source": [
        "# Experimento 2\n",
        "\n",
        "# Datos del conjunto, se obtienen 100 imagenes de la clase 5\n",
        "X_5 = X[Y == '5']\n",
        "# se asignan los datos de la clase 6\n",
        "X_6 = X[Y == '6']\n",
        "X_data = np.concatenate([X_5[:100], X_6[:100]], axis=0)\n",
        "# se crean las etiquetas\n",
        "Y_ = np.ones((200,))\n",
        "Y_[100:,] = 0\n",
        "\n",
        "# Separa los datos de prueba de entrenamiento\n",
        "X_train, X_test, y_train, y_test = train_test_split(X_data, Y_, test_size = 0.3, random_state = 1,stratify=Y_)\n",
        "\n",
        "sc = StandardScaler()\n",
        "sc.fit(X_train)\n",
        "X_train_std = sc.transform(X_train)\n",
        "X_test_std = sc.transform(X_test)\n",
        "# Entrenamiento\n",
        "ppn = Perceptron(eta0 = 0.1, random_state = 1)\n",
        "ppn.fit(X_train_std, y_train)\n",
        "\n",
        "y_pred = ppn.predict(X_test_std)\n",
        "print('Ejemplos clasificados incorrectamente: %d' % (y_test != y_pred).sum())\n",
        "\n",
        "from sklearn.metrics import accuracy_score\n",
        "print('Accuracy: %.3f' % accuracy_score(y_test, y_pred))"
      ],
      "metadata": {
        "colab": {
          "base_uri": "https://localhost:8080/"
        },
        "id": "MX-EtXeJzN_I",
        "outputId": "62cd518b-1b5b-401c-8e55-676f6492dc47"
      },
      "execution_count": 43,
      "outputs": [
        {
          "output_type": "stream",
          "name": "stdout",
          "text": [
            "Ejemplos clasificados incorrectamente: 3\n",
            "Accuracy: 0.950\n"
          ]
        }
      ]
    },
    {
      "cell_type": "code",
      "source": [
        "# Experimento 3\n",
        "\n",
        "# Datos del conjunto, se obtienen 50 imagenes de cada clase\n",
        "X_0 = X[Y == '0']\n",
        "X_1 = X[Y == '1']\n",
        "X_2 = X[Y == '2']\n",
        "X_3 = X[Y == '3']\n",
        "X_4 = X[Y == '4']\n",
        "X_5 = X[Y == '5']\n",
        "X_6 = X[Y == '6']\n",
        "X_7 = X[Y == '7']\n",
        "X_8 = X[Y == '8']\n",
        "X_9 = X[Y == '9']\n",
        "\n",
        "\n",
        "X_data = np.concatenate([X_0[:100],X_1[:100],X_2[:100],X_3[:100],X_4[:100],X_5[:100],\n",
        "                        X_6[:100],X_7[:100],X_8[:100], X_9[:100]], axis=0)\n",
        "\n",
        "\n",
        "# se crean las etiquetas\n",
        "Y_ = np.zeros((1000,))\n",
        "Y_[100:200,] = 1\n",
        "Y_[200:300,] = 2\n",
        "Y_[300:400,] = 3\n",
        "Y_[400:500,] = 4\n",
        "Y_[500:600,] = 5\n",
        "Y_[600:700,] = 6\n",
        "Y_[700:800,] = 7\n",
        "Y_[800:900,] = 8\n",
        "Y_[900:1000,] = 9\n",
        "\n",
        "# Separa los datos de prueba de entrenamiento\n",
        "X_train, X_test, y_train, y_test = train_test_split(X_data, Y_, test_size = 0.3, random_state = 1,stratify=Y_)\n",
        "\n",
        "\n",
        "sc = StandardScaler()\n",
        "sc.fit(X_train)\n",
        "X_train_std = sc.transform(X_train)\n",
        "X_test_std = sc.transform(X_test)\n",
        "\n",
        "# Entrenamiento\n",
        "ppn = Perceptron(eta0 = 0.1, random_state = 1)\n",
        "ppn.fit(X_train_std, y_train)\n",
        "\n",
        "y_pred = ppn.predict(X_test_std)\n",
        "print('Ejemplos clasificados incorrectamente: %d' % (y_test != y_pred).sum())\n",
        "\n",
        "from sklearn.metrics import accuracy_score\n",
        "print('Accuracy: %.3f' % accuracy_score(y_test, y_pred))\n"
      ],
      "metadata": {
        "colab": {
          "base_uri": "https://localhost:8080/"
        },
        "id": "RI7dqXlP2Ujl",
        "outputId": "c2f6e15c-53bb-4194-9b2c-e7d4ab228f3b"
      },
      "execution_count": 44,
      "outputs": [
        {
          "output_type": "stream",
          "name": "stdout",
          "text": [
            "Ejemplos clasificados incorrectamente: 69\n",
            "Accuracy: 0.770\n"
          ]
        }
      ]
    }
  ]
}